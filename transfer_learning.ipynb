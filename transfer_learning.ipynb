{
  "nbformat": 4,
  "nbformat_minor": 0,
  "metadata": {
    "colab": {
      "name": "transfer learning.ipynb",
      "provenance": [],
      "collapsed_sections": [],
      "toc_visible": true,
      "mount_file_id": "1nIJow0uXCnjgkqqbI3ynEIgsPufACPse",
      "authorship_tag": "ABX9TyOd/f46TawKhnhmeI+FkvIB",
      "include_colab_link": true
    },
    "kernelspec": {
      "name": "python3",
      "display_name": "Python 3"
    },
    "accelerator": "GPU"
  },
  "cells": [
    {
      "cell_type": "markdown",
      "metadata": {
        "id": "view-in-github",
        "colab_type": "text"
      },
      "source": [
        "<a href=\"https://colab.research.google.com/github/shubhampoonia/shubhampoonia.github.io/blob/master/transfer_learning.ipynb\" target=\"_parent\"><img src=\"https://colab.research.google.com/assets/colab-badge.svg\" alt=\"Open In Colab\"/></a>"
      ]
    },
    {
      "cell_type": "markdown",
      "metadata": {
        "id": "NbYYpFCY_1i4",
        "colab_type": "text"
      },
      "source": [
        "# **Importing necessary packages**"
      ]
    },
    {
      "cell_type": "code",
      "metadata": {
        "id": "CYQhszProO9f",
        "colab_type": "code",
        "colab": {}
      },
      "source": [
        "import pandas as pd\n",
        "import numpy as np\n",
        "import tensorflow as tf \n",
        "import matplotlib.pyplot as plt\n",
        "from tensorflow import keras\n",
        "from PIL import Image, ImageOps\n",
        "from keras.layers import Dense,GlobalAveragePooling2D\n",
        "from keras.applications import MobileNet\n",
        "from keras.preprocessing import image\n",
        "from keras.applications.mobilenet import preprocess_input\n",
        "from keras.preprocessing.image import ImageDataGenerator\n",
        "from keras.models import Model\n",
        "from keras.optimizers import Optimizer , SGD ,RMSprop ,Adam\n",
        "from keras.callbacks import TensorBoard\n",
        "from keras.callbacks.callbacks import ModelCheckpoint"
      ],
      "execution_count": 0,
      "outputs": []
    },
    {
      "cell_type": "markdown",
      "metadata": {
        "id": "8M0SsXkDAehM",
        "colab_type": "text"
      },
      "source": [
        "# **Importing Pretained Model**"
      ]
    },
    {
      "cell_type": "code",
      "metadata": {
        "id": "zpu-ryBRocZK",
        "colab_type": "code",
        "colab": {
          "base_uri": "https://localhost:8080/",
          "height": 71
        },
        "outputId": "33448d4b-5852-4ac3-b1c3-05fb352f8597"
      },
      "source": [
        "base_model=MobileNet(weights='imagenet',include_top=False) #imports the inception model and discards the last 1000 neuron layer.\n",
        "\n"
      ],
      "execution_count": 145,
      "outputs": [
        {
          "output_type": "stream",
          "text": [
            "/usr/local/lib/python3.6/dist-packages/keras_applications/mobilenet.py:207: UserWarning: `input_shape` is undefined or non-square, or `rows` is not in [128, 160, 192, 224]. Weights for input shape (224, 224) will be loaded as the default.\n",
            "  warnings.warn('`input_shape` is undefined or non-square, '\n"
          ],
          "name": "stderr"
        }
      ]
    },
    {
      "cell_type": "code",
      "metadata": {
        "id": "IZQo7rblmgqe",
        "colab_type": "code",
        "colab": {}
      },
      "source": [
        "x=base_model.output\n",
        "x=GlobalAveragePooling2D()(x)\n",
        "tf.keras.layers.Dropout(0.8)\n",
        "x=Dense(1024,activation='relu')(x) #we add dense layers so that the model can learn more complex functions and classify for better results.\n",
        "x=Dense(1024,activation='relu')(x) #dense layer 2\n",
        "x=Dense(256,activation='relu')(x) #dense layer 3\n",
        "preds=Dense(3,activation='softmax')(x) #final layer with softmax activation\n"
      ],
      "execution_count": 0,
      "outputs": []
    },
    {
      "cell_type": "code",
      "metadata": {
        "id": "lDk-E-THopfB",
        "colab_type": "code",
        "colab": {}
      },
      "source": [
        "model=Model(inputs=base_model.input,outputs=preds)"
      ],
      "execution_count": 0,
      "outputs": []
    },
    {
      "cell_type": "code",
      "metadata": {
        "id": "76jkPN7XowV0",
        "colab_type": "code",
        "colab": {}
      },
      "source": [
        "for layer in model.layers[:20]: #freezing top 20 layers\n",
        "    layer.trainable=False\n",
        "for layer in model.layers[20:]:  \n",
        "    layer.trainable=True"
      ],
      "execution_count": 0,
      "outputs": []
    },
    {
      "cell_type": "markdown",
      "metadata": {
        "id": "r_J2nkzU_0PB",
        "colab_type": "text"
      },
      "source": [
        "# Preprocessing data using keras ImageDataGenerator function"
      ]
    },
    {
      "cell_type": "code",
      "metadata": {
        "id": "ThSR91aMo3IZ",
        "colab_type": "code",
        "colab": {}
      },
      "source": [
        "train_datagen=ImageDataGenerator(preprocessing_function=preprocess_input) #included in our dependencies\n",
        "valid_datagen=ImageDataGenerator(preprocessing_function=preprocess_input)\n",
        "\n"
      ],
      "execution_count": 0,
      "outputs": []
    },
    {
      "cell_type": "code",
      "metadata": {
        "id": "S2JY6z3FpbEM",
        "colab_type": "code",
        "outputId": "066651ff-4146-4642-8320-894a8b59e47e",
        "colab": {
          "base_uri": "https://localhost:8080/",
          "height": 51
        }
      },
      "source": [
        "train_generator=train_datagen.flow_from_directory('/content/drive/My Drive/data/train/', # this is where you specify the path to the main data folder\n",
        "                                                 target_size=(224,224),\n",
        "                                                 color_mode='rgb',\n",
        "                                                 shuffle=False ,\n",
        "                                                 class_mode='categorical',\n",
        "                                                 )\n",
        "val_dataset=valid_datagen.flow_from_directory('/content/drive/My Drive/data/validation/', # this is where you specify the path to the validation folder\n",
        "                                                 target_size=(224,224),\n",
        "                                                 color_mode='rgb',\n",
        "                                                 shuffle=False, \n",
        "                                              class_mode='categorical'\n",
        "                                                 )\n"
      ],
      "execution_count": 165,
      "outputs": [
        {
          "output_type": "stream",
          "text": [
            "Found 160 images belonging to 3 classes.\n",
            "Found 160 images belonging to 3 classes.\n"
          ],
          "name": "stdout"
        }
      ]
    },
    {
      "cell_type": "markdown",
      "metadata": {
        "id": "vrIvSIDEBOl9",
        "colab_type": "text"
      },
      "source": [
        "# Compiling model \n"
      ]
    },
    {
      "cell_type": "code",
      "metadata": {
        "id": "acdIxWowpgpp",
        "colab_type": "code",
        "colab": {}
      },
      "source": [
        "\n",
        "model.compile(optimizer=\"Adam\",loss='categorical_crossentropy',metrics=[tf.keras.metrics.CategoricalAccuracy()])\n",
        "#model.run_eagerly = True\n",
        "# Adam optimizer\n",
        "# loss function will be categorical cross entropy\n",
        "# evaluation metric will be accuracy\n",
        "\n"
      ],
      "execution_count": 0,
      "outputs": []
    },
    {
      "cell_type": "markdown",
      "metadata": {
        "id": "EmIAf-eQBkW4",
        "colab_type": "text"
      },
      "source": [
        "# Training model"
      ]
    },
    {
      "cell_type": "code",
      "metadata": {
        "id": "xZDyR1atpqYV",
        "colab_type": "code",
        "outputId": "00b4c77a-ef23-42ee-c634-55522d04fe5c",
        "colab": {
          "base_uri": "https://localhost:8080/",
          "height": 1000
        }
      },
      "source": [
        "#tensorboard_callback = tf.keras.callbacks.TensorBoard(log_dir=\"/content/drive/My Drive/data/logs\")\n",
        "step_size_train=train_generator.n//train_generator.batch_size\n",
        "history=model.fit_generator(generator=train_generator,\n",
        "                   steps_per_epoch=step_size_train,\n",
        "                   epochs=75,\n",
        "                  validation_data=val_dataset) \n",
        "                    #,callbacks=[tensorboard_callback])"
      ],
      "execution_count": 176,
      "outputs": [
        {
          "output_type": "stream",
          "text": [
            "Epoch 1/75\n",
            "5/5 [==============================] - 3s 638ms/step - loss: 3.3400e-05 - categorical_accuracy: 0.6898 - val_loss: 0.2306 - val_categorical_accuracy: 0.6914\n",
            "Epoch 2/75\n",
            "5/5 [==============================] - 3s 510ms/step - loss: 3.2268e-05 - categorical_accuracy: 0.6941 - val_loss: 0.2487 - val_categorical_accuracy: 0.6956\n",
            "Epoch 3/75\n",
            "5/5 [==============================] - 3s 509ms/step - loss: 3.0954e-05 - categorical_accuracy: 0.6982 - val_loss: 0.2671 - val_categorical_accuracy: 0.6997\n",
            "Epoch 4/75\n",
            "5/5 [==============================] - 3s 507ms/step - loss: 2.9837e-05 - categorical_accuracy: 0.7023 - val_loss: 0.2854 - val_categorical_accuracy: 0.7037\n",
            "Epoch 5/75\n",
            "5/5 [==============================] - 3s 507ms/step - loss: 2.8550e-05 - categorical_accuracy: 0.7061 - val_loss: 0.3048 - val_categorical_accuracy: 0.7074\n",
            "Epoch 6/75\n",
            "5/5 [==============================] - 3s 530ms/step - loss: 2.7455e-05 - categorical_accuracy: 0.7097 - val_loss: 0.3251 - val_categorical_accuracy: 0.7109\n",
            "Epoch 7/75\n",
            "5/5 [==============================] - 2s 499ms/step - loss: 2.6726e-05 - categorical_accuracy: 0.7131 - val_loss: 0.3428 - val_categorical_accuracy: 0.7142\n",
            "Epoch 8/75\n",
            "5/5 [==============================] - 3s 516ms/step - loss: 2.5629e-05 - categorical_accuracy: 0.7164 - val_loss: 0.3618 - val_categorical_accuracy: 0.7174\n",
            "Epoch 9/75\n",
            "5/5 [==============================] - 3s 506ms/step - loss: 2.4637e-05 - categorical_accuracy: 0.7195 - val_loss: 0.3803 - val_categorical_accuracy: 0.7204\n",
            "Epoch 10/75\n",
            "5/5 [==============================] - 3s 502ms/step - loss: 2.3598e-05 - categorical_accuracy: 0.7224 - val_loss: 0.3992 - val_categorical_accuracy: 0.7233\n",
            "Epoch 11/75\n",
            "5/5 [==============================] - 3s 512ms/step - loss: 2.2767e-05 - categorical_accuracy: 0.7252 - val_loss: 0.4180 - val_categorical_accuracy: 0.7261\n",
            "Epoch 12/75\n",
            "5/5 [==============================] - 3s 515ms/step - loss: 2.1989e-05 - categorical_accuracy: 0.7279 - val_loss: 0.4365 - val_categorical_accuracy: 0.7287\n",
            "Epoch 13/75\n",
            "5/5 [==============================] - 2s 499ms/step - loss: 2.1280e-05 - categorical_accuracy: 0.7305 - val_loss: 0.4538 - val_categorical_accuracy: 0.7313\n",
            "Epoch 14/75\n",
            "5/5 [==============================] - 2s 489ms/step - loss: 2.0486e-05 - categorical_accuracy: 0.7330 - val_loss: 0.4711 - val_categorical_accuracy: 0.7338\n",
            "Epoch 15/75\n",
            "5/5 [==============================] - 3s 528ms/step - loss: 1.9881e-05 - categorical_accuracy: 0.7354 - val_loss: 0.4881 - val_categorical_accuracy: 0.7362\n",
            "Epoch 16/75\n",
            "5/5 [==============================] - 3s 515ms/step - loss: 1.9186e-05 - categorical_accuracy: 0.7378 - val_loss: 0.5033 - val_categorical_accuracy: 0.7385\n",
            "Epoch 17/75\n",
            "5/5 [==============================] - 3s 520ms/step - loss: 1.8465e-05 - categorical_accuracy: 0.7400 - val_loss: 0.5189 - val_categorical_accuracy: 0.7406\n",
            "Epoch 18/75\n",
            "5/5 [==============================] - 3s 510ms/step - loss: 1.7774e-05 - categorical_accuracy: 0.7421 - val_loss: 0.5376 - val_categorical_accuracy: 0.7426\n",
            "Epoch 19/75\n",
            "5/5 [==============================] - 3s 501ms/step - loss: 1.7340e-05 - categorical_accuracy: 0.7440 - val_loss: 0.5523 - val_categorical_accuracy: 0.7444\n",
            "Epoch 20/75\n",
            "5/5 [==============================] - 3s 508ms/step - loss: 1.6680e-05 - categorical_accuracy: 0.7457 - val_loss: 0.5679 - val_categorical_accuracy: 0.7462\n",
            "Epoch 21/75\n",
            "5/5 [==============================] - 3s 505ms/step - loss: 1.6191e-05 - categorical_accuracy: 0.7475 - val_loss: 0.5814 - val_categorical_accuracy: 0.7479\n",
            "Epoch 22/75\n",
            "5/5 [==============================] - 3s 510ms/step - loss: 1.5565e-05 - categorical_accuracy: 0.7492 - val_loss: 0.5957 - val_categorical_accuracy: 0.7495\n",
            "Epoch 23/75\n",
            "5/5 [==============================] - 3s 501ms/step - loss: 1.5141e-05 - categorical_accuracy: 0.7508 - val_loss: 0.6093 - val_categorical_accuracy: 0.7511\n",
            "Epoch 24/75\n",
            "5/5 [==============================] - 3s 520ms/step - loss: 1.4610e-05 - categorical_accuracy: 0.7523 - val_loss: 0.6208 - val_categorical_accuracy: 0.7526\n",
            "Epoch 25/75\n",
            "5/5 [==============================] - 3s 502ms/step - loss: 1.4173e-05 - categorical_accuracy: 0.7538 - val_loss: 0.6321 - val_categorical_accuracy: 0.7541\n",
            "Epoch 26/75\n",
            "5/5 [==============================] - 3s 505ms/step - loss: 1.3663e-05 - categorical_accuracy: 0.7553 - val_loss: 0.6452 - val_categorical_accuracy: 0.7556\n",
            "Epoch 27/75\n",
            "5/5 [==============================] - 2s 497ms/step - loss: 1.3166e-05 - categorical_accuracy: 0.7567 - val_loss: 0.6607 - val_categorical_accuracy: 0.7569\n",
            "Epoch 28/75\n",
            "5/5 [==============================] - 2s 495ms/step - loss: 1.2851e-05 - categorical_accuracy: 0.7580 - val_loss: 0.6736 - val_categorical_accuracy: 0.7583\n",
            "Epoch 29/75\n",
            "5/5 [==============================] - 3s 512ms/step - loss: 1.2479e-05 - categorical_accuracy: 0.7594 - val_loss: 0.6838 - val_categorical_accuracy: 0.7596\n",
            "Epoch 30/75\n",
            "5/5 [==============================] - 2s 500ms/step - loss: 1.2065e-05 - categorical_accuracy: 0.7607 - val_loss: 0.6945 - val_categorical_accuracy: 0.7609\n",
            "Epoch 31/75\n",
            "5/5 [==============================] - 3s 522ms/step - loss: 1.1675e-05 - categorical_accuracy: 0.7619 - val_loss: 0.7070 - val_categorical_accuracy: 0.7621\n",
            "Epoch 32/75\n",
            "5/5 [==============================] - 2s 488ms/step - loss: 1.1399e-05 - categorical_accuracy: 0.7631 - val_loss: 0.7151 - val_categorical_accuracy: 0.7633\n",
            "Epoch 33/75\n",
            "5/5 [==============================] - 3s 512ms/step - loss: 1.0988e-05 - categorical_accuracy: 0.7642 - val_loss: 0.7269 - val_categorical_accuracy: 0.7643\n",
            "Epoch 34/75\n",
            "5/5 [==============================] - 2s 489ms/step - loss: 1.0685e-05 - categorical_accuracy: 0.7653 - val_loss: 0.7387 - val_categorical_accuracy: 0.7654\n",
            "Epoch 35/75\n",
            "5/5 [==============================] - 3s 507ms/step - loss: 1.0407e-05 - categorical_accuracy: 0.7663 - val_loss: 0.7494 - val_categorical_accuracy: 0.7664\n",
            "Epoch 36/75\n",
            "5/5 [==============================] - 3s 505ms/step - loss: 1.0162e-05 - categorical_accuracy: 0.7673 - val_loss: 0.7585 - val_categorical_accuracy: 0.7674\n",
            "Epoch 37/75\n",
            "5/5 [==============================] - 3s 512ms/step - loss: 9.8322e-06 - categorical_accuracy: 0.7682 - val_loss: 0.7697 - val_categorical_accuracy: 0.7683\n",
            "Epoch 38/75\n",
            "5/5 [==============================] - 3s 511ms/step - loss: 9.5871e-06 - categorical_accuracy: 0.7691 - val_loss: 0.7770 - val_categorical_accuracy: 0.7692\n",
            "Epoch 39/75\n",
            "5/5 [==============================] - 3s 523ms/step - loss: 9.3048e-06 - categorical_accuracy: 0.7700 - val_loss: 0.7855 - val_categorical_accuracy: 0.7700\n",
            "Epoch 40/75\n",
            "5/5 [==============================] - 3s 511ms/step - loss: 9.0798e-06 - categorical_accuracy: 0.7708 - val_loss: 0.7934 - val_categorical_accuracy: 0.7708\n",
            "Epoch 41/75\n",
            "5/5 [==============================] - 3s 514ms/step - loss: 8.8279e-06 - categorical_accuracy: 0.7716 - val_loss: 0.8002 - val_categorical_accuracy: 0.7716\n",
            "Epoch 42/75\n",
            "5/5 [==============================] - 3s 516ms/step - loss: 8.5910e-06 - categorical_accuracy: 0.7723 - val_loss: 0.8088 - val_categorical_accuracy: 0.7723\n",
            "Epoch 43/75\n",
            "5/5 [==============================] - 2s 497ms/step - loss: 8.3638e-06 - categorical_accuracy: 0.7730 - val_loss: 0.8167 - val_categorical_accuracy: 0.7730\n",
            "Epoch 44/75\n",
            "5/5 [==============================] - 2s 499ms/step - loss: 8.1381e-06 - categorical_accuracy: 0.7736 - val_loss: 0.8264 - val_categorical_accuracy: 0.7736\n",
            "Epoch 45/75\n",
            "5/5 [==============================] - 2s 497ms/step - loss: 7.9689e-06 - categorical_accuracy: 0.7742 - val_loss: 0.8321 - val_categorical_accuracy: 0.7742\n",
            "Epoch 46/75\n",
            "5/5 [==============================] - 3s 500ms/step - loss: 7.7410e-06 - categorical_accuracy: 0.7748 - val_loss: 0.8398 - val_categorical_accuracy: 0.7748\n",
            "Epoch 47/75\n",
            "5/5 [==============================] - 3s 502ms/step - loss: 7.5718e-06 - categorical_accuracy: 0.7754 - val_loss: 0.8437 - val_categorical_accuracy: 0.7754\n",
            "Epoch 48/75\n",
            "5/5 [==============================] - 2s 493ms/step - loss: 7.3580e-06 - categorical_accuracy: 0.7759 - val_loss: 0.8512 - val_categorical_accuracy: 0.7759\n",
            "Epoch 49/75\n",
            "5/5 [==============================] - 3s 513ms/step - loss: 7.1733e-06 - categorical_accuracy: 0.7765 - val_loss: 0.8604 - val_categorical_accuracy: 0.7765\n",
            "Epoch 50/75\n",
            "5/5 [==============================] - 3s 500ms/step - loss: 7.0496e-06 - categorical_accuracy: 0.7771 - val_loss: 0.8636 - val_categorical_accuracy: 0.7770\n",
            "Epoch 51/75\n",
            "5/5 [==============================] - 3s 501ms/step - loss: 6.8447e-06 - categorical_accuracy: 0.7776 - val_loss: 0.8696 - val_categorical_accuracy: 0.7775\n",
            "Epoch 52/75\n",
            "5/5 [==============================] - 2s 499ms/step - loss: 6.7009e-06 - categorical_accuracy: 0.7781 - val_loss: 0.8739 - val_categorical_accuracy: 0.7780\n",
            "Epoch 53/75\n",
            "5/5 [==============================] - 2s 497ms/step - loss: 6.5065e-06 - categorical_accuracy: 0.7785 - val_loss: 0.8809 - val_categorical_accuracy: 0.7785\n",
            "Epoch 54/75\n",
            "5/5 [==============================] - 3s 520ms/step - loss: 6.3716e-06 - categorical_accuracy: 0.7790 - val_loss: 0.8854 - val_categorical_accuracy: 0.7790\n",
            "Epoch 55/75\n",
            "5/5 [==============================] - 3s 517ms/step - loss: 6.1846e-06 - categorical_accuracy: 0.7795 - val_loss: 0.8919 - val_categorical_accuracy: 0.7795\n",
            "Epoch 56/75\n",
            "5/5 [==============================] - 3s 508ms/step - loss: 6.0475e-06 - categorical_accuracy: 0.7799 - val_loss: 0.8963 - val_categorical_accuracy: 0.7799\n",
            "Epoch 57/75\n",
            "5/5 [==============================] - 2s 497ms/step - loss: 5.9201e-06 - categorical_accuracy: 0.7804 - val_loss: 0.8962 - val_categorical_accuracy: 0.7803\n",
            "Epoch 58/75\n",
            "5/5 [==============================] - 2s 497ms/step - loss: 5.7555e-06 - categorical_accuracy: 0.7808 - val_loss: 0.9012 - val_categorical_accuracy: 0.7807\n",
            "Epoch 59/75\n",
            "5/5 [==============================] - 3s 504ms/step - loss: 5.5968e-06 - categorical_accuracy: 0.7812 - val_loss: 0.9075 - val_categorical_accuracy: 0.7811\n",
            "Epoch 60/75\n",
            "5/5 [==============================] - 3s 515ms/step - loss: 5.4917e-06 - categorical_accuracy: 0.7816 - val_loss: 0.9088 - val_categorical_accuracy: 0.7815\n",
            "Epoch 61/75\n",
            "5/5 [==============================] - 2s 496ms/step - loss: 5.3345e-06 - categorical_accuracy: 0.7819 - val_loss: 0.9153 - val_categorical_accuracy: 0.7818\n",
            "Epoch 62/75\n",
            "5/5 [==============================] - 3s 508ms/step - loss: 5.2310e-06 - categorical_accuracy: 0.7823 - val_loss: 0.9181 - val_categorical_accuracy: 0.7822\n",
            "Epoch 63/75\n",
            "5/5 [==============================] - 3s 507ms/step - loss: 5.0849e-06 - categorical_accuracy: 0.7826 - val_loss: 0.9253 - val_categorical_accuracy: 0.7826\n",
            "Epoch 64/75\n",
            "5/5 [==============================] - 2s 497ms/step - loss: 5.0037e-06 - categorical_accuracy: 0.7830 - val_loss: 0.9250 - val_categorical_accuracy: 0.7829\n",
            "Epoch 65/75\n",
            "5/5 [==============================] - 2s 495ms/step - loss: 4.8704e-06 - categorical_accuracy: 0.7833 - val_loss: 0.9299 - val_categorical_accuracy: 0.7832\n",
            "Epoch 66/75\n",
            "5/5 [==============================] - 3s 508ms/step - loss: 4.7743e-06 - categorical_accuracy: 0.7837 - val_loss: 0.9306 - val_categorical_accuracy: 0.7836\n",
            "Epoch 67/75\n",
            "5/5 [==============================] - 2s 486ms/step - loss: 4.6655e-06 - categorical_accuracy: 0.7840 - val_loss: 0.9323 - val_categorical_accuracy: 0.7839\n",
            "Epoch 68/75\n",
            "5/5 [==============================] - 3s 505ms/step - loss: 4.5679e-06 - categorical_accuracy: 0.7843 - val_loss: 0.9340 - val_categorical_accuracy: 0.7842\n",
            "Epoch 69/75\n",
            "5/5 [==============================] - 3s 512ms/step - loss: 4.4599e-06 - categorical_accuracy: 0.7846 - val_loss: 0.9366 - val_categorical_accuracy: 0.7845\n",
            "Epoch 70/75\n",
            "5/5 [==============================] - 3s 506ms/step - loss: 4.3645e-06 - categorical_accuracy: 0.7848 - val_loss: 0.9426 - val_categorical_accuracy: 0.7847\n",
            "Epoch 71/75\n",
            "5/5 [==============================] - 2s 499ms/step - loss: 4.2863e-06 - categorical_accuracy: 0.7851 - val_loss: 0.9447 - val_categorical_accuracy: 0.7850\n",
            "Epoch 72/75\n",
            "5/5 [==============================] - 3s 515ms/step - loss: 4.1820e-06 - categorical_accuracy: 0.7854 - val_loss: 0.9515 - val_categorical_accuracy: 0.7852\n",
            "Epoch 73/75\n",
            "5/5 [==============================] - 3s 502ms/step - loss: 4.1052e-06 - categorical_accuracy: 0.7856 - val_loss: 0.9548 - val_categorical_accuracy: 0.7855\n",
            "Epoch 74/75\n",
            "5/5 [==============================] - 3s 519ms/step - loss: 4.0270e-06 - categorical_accuracy: 0.7858 - val_loss: 0.9557 - val_categorical_accuracy: 0.7857\n",
            "Epoch 75/75\n",
            "5/5 [==============================] - 2s 486ms/step - loss: 3.9465e-06 - categorical_accuracy: 0.7860 - val_loss: 0.9561 - val_categorical_accuracy: 0.7859\n"
          ],
          "name": "stdout"
        }
      ]
    },
    {
      "cell_type": "code",
      "metadata": {
        "id": "xNSAup1PnYNU",
        "colab_type": "code",
        "outputId": "d1b7c8ff-1e5e-4769-d05e-3676e6763bda",
        "colab": {
          "base_uri": "https://localhost:8080/",
          "height": 34
        }
      },
      "source": [
        "results = model.evaluate_generator(val_dataset)\n",
        "print('test loss, test acc:', results)"
      ],
      "execution_count": 177,
      "outputs": [
        {
          "output_type": "stream",
          "text": [
            "test loss, test acc: [0.9560912251472473, 0.785259485244751]\n"
          ],
          "name": "stdout"
        }
      ]
    },
    {
      "cell_type": "code",
      "metadata": {
        "id": "wFThxiBUkLVM",
        "colab_type": "code",
        "colab": {
          "base_uri": "https://localhost:8080/",
          "height": 573
        },
        "outputId": "fddc2569-20cd-4554-938c-937f3595b76a"
      },
      "source": [
        "plt.plot(history.history['categorical_accuracy'])\n",
        "plt.plot(history.history['val_categorical_accuracy'])\n",
        "plt.title('model accuracy')\n",
        "plt.ylabel('accuracy')\n",
        "plt.xlabel('epoch')\n",
        "plt.legend(['train', 'test'], loc='upper left')\n",
        "plt.show()\n",
        "# summarize history for loss\n",
        "plt.plot(history.history['loss'])\n",
        "plt.plot(history.history['val_loss'])\n",
        "plt.title('model loss')\n",
        "plt.ylabel('loss')\n",
        "plt.xlabel('epoch')\n",
        "plt.legend(['train', 'test'], loc='upper left')\n",
        "plt.show()"
      ],
      "execution_count": 178,
      "outputs": [
        {
          "output_type": "display_data",
          "data": {
            "image/png": "[encoded data removed]",
            "text/plain": [
              "<Figure size 432x288 with 1 Axes>"
            ]
          },
          "metadata": {
            "tags": [],
            "needs_background": "light"
          }
        },
        {
          "output_type": "display_data",
          "data": {
            "image/png": "[encoded data removed]",
            "text/plain": [
              "<Figure size 432x288 with 1 Axes>"
            ]
          },
          "metadata": {
            "tags": [],
            "needs_background": "light"
          }
        }
      ]
    },
    {
      "cell_type": "markdown",
      "metadata": {
        "id": "CkvzdXIpBys_",
        "colab_type": "text"
      },
      "source": [
        "# **Pre-processing data which is to be predicted**"
      ]
    },
    {
      "cell_type": "code",
      "metadata": {
        "id": "NwXCZJHiwc58",
        "colab_type": "code",
        "colab": {}
      },
      "source": [
        "\n",
        "data = np.ndarray(shape=(1, 224, 224, 3), dtype=np.float32)\n",
        "\n",
        "# Replace this with the path to your image\n",
        "image = Image.open('/content/drive/My Drive/data/validation/malignant/mdb023.jpg')\n",
        "\n",
        "#resize the image to a 224x224:\n",
        "#resizing the image to be at least 224x224 and then cropping from the center\n",
        "size = (224, 224)\n",
        "image = ImageOps.fit(image, size, Image.ANTIALIAS)\n"
      ],
      "execution_count": 0,
      "outputs": []
    },
    {
      "cell_type": "code",
      "metadata": {
        "id": "TaDV1N3Jw9Bx",
        "colab_type": "code",
        "colab": {}
      },
      "source": [
        "image=image.convert('RGB')"
      ],
      "execution_count": 0,
      "outputs": []
    },
    {
      "cell_type": "code",
      "metadata": {
        "id": "zIwj4RQvw-CL",
        "colab_type": "code",
        "outputId": "5d18bfbc-cd70-43f1-dd59-5aeb4f5e419b",
        "colab": {
          "base_uri": "https://localhost:8080/",
          "height": 34
        }
      },
      "source": [
        "image.size"
      ],
      "execution_count": 181,
      "outputs": [
        {
          "output_type": "execute_result",
          "data": {
            "text/plain": [
              "(224, 224)"
            ]
          },
          "metadata": {
            "tags": []
          },
          "execution_count": 181
        }
      ]
    },
    {
      "cell_type": "code",
      "metadata": {
        "id": "RnU73rJkxGTn",
        "colab_type": "code",
        "colab": {}
      },
      "source": [
        "image_array = np.asarray(image)\n",
        "normalized_image_array = (image_array.astype(np.float32) / 127.0) - 1\n"
      ],
      "execution_count": 0,
      "outputs": []
    },
    {
      "cell_type": "code",
      "metadata": {
        "id": "oemkZIMAxHZD",
        "colab_type": "code",
        "colab": {}
      },
      "source": [
        "data[0] = normalized_image_array\n"
      ],
      "execution_count": 0,
      "outputs": []
    },
    {
      "cell_type": "markdown",
      "metadata": {
        "id": "qVtgz9nWCG9S",
        "colab_type": "text"
      },
      "source": [
        "# Prediction of the model\n",
        "\n",
        "1.  **negative** \n",
        "2.  **positive**\n",
        "\n"
      ]
    },
    {
      "cell_type": "code",
      "metadata": {
        "id": "GvHtpiXmxMm7",
        "colab_type": "code",
        "outputId": "439b0245-0a1b-47fd-fd87-4c755d5221f8",
        "colab": {
          "base_uri": "https://localhost:8080/",
          "height": 34
        }
      },
      "source": [
        "# run the inference\n",
        "prediction = model.predict(data)\n",
        "\n",
        "print(prediction)"
      ],
      "execution_count": 184,
      "outputs": [
        {
          "output_type": "stream",
          "text": [
            "[[0.1354982  0.10682714 0.7576746 ]]\n"
          ],
          "name": "stdout"
        }
      ]
    }
  ]
}