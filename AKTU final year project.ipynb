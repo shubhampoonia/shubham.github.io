{
  "nbformat": 4,
  "nbformat_minor": 0,
  "metadata": {
    "colab": {
      "name": "transfer learning.ipynb",
      "provenance": [],
      "collapsed_sections": [],
      "toc_visible": true,
      "mount_file_id": "1nIJow0uXCnjgkqqbI3ynEIgsPufACPse",
      "authorship_tag": "ABX9TyOlzGDtr5wchqpfJATCwwSw",
      "include_colab_link": true
    },
    "kernelspec": {
      "name": "python3",
      "display_name": "Python 3"
    },
    "accelerator": "GPU"
  },
  "cells": [
    {
      "cell_type": "markdown",
      "metadata": {
        "id": "view-in-github",
        "colab_type": "text"
      },
      "source": [
        "<a href=\"https://colab.research.google.com/github/shubhampoonia/shubhampoonia.github.io/blob/master/AKTU%20final%20year%20project.ipynb\" target=\"_parent\"><img src=\"https://colab.research.google.com/assets/colab-badge.svg\" alt=\"Open In Colab\"/></a>"
      ]
    },
    {
      "cell_type": "markdown",
      "metadata": {
        "id": "NbYYpFCY_1i4",
        "colab_type": "text"
      },
      "source": [
        "# **Importing necessary packages**"
      ]
    },
    {
      "cell_type": "code",
      "metadata": {
        "id": "CYQhszProO9f",
        "colab_type": "code",
        "outputId": "c8980a34-01d8-48f7-f2bb-eb64466f00b1",
        "colab": {
          "base_uri": "https://localhost:8080/",
          "height": 34
        }
      },
      "source": [
        "import numpy as np\n",
        "import tensorflow as tf \n",
        "import matplotlib.pyplot as plt\n",
        "from tensorflow import keras\n",
        "from PIL import Image, ImageOps\n",
        "from keras.layers import Dense,GlobalAveragePooling2D\n",
        "from keras.applications import MobileNet\n",
        "from keras.preprocessing import image\n",
        "from keras.applications.mobilenet import preprocess_input\n",
        "from keras.preprocessing.image import ImageDataGenerator\n",
        "from keras.models import Model\n",
        "from keras.optimizers import Adam"
      ],
      "execution_count": 1,
      "outputs": [
        {
          "output_type": "stream",
          "text": [
            "Using TensorFlow backend.\n"
          ],
          "name": "stderr"
        }
      ]
    },
    {
      "cell_type": "markdown",
      "metadata": {
        "id": "8M0SsXkDAehM",
        "colab_type": "text"
      },
      "source": [
        "# **Importing Pretained Model**"
      ]
    },
    {
      "cell_type": "code",
      "metadata": {
        "id": "zpu-ryBRocZK",
        "colab_type": "code",
        "outputId": "ce953922-5391-432f-8b54-e64748f54746",
        "colab": {
          "base_uri": "https://localhost:8080/",
          "height": 71
        }
      },
      "source": [
        "base_model=MobileNet(weights='imagenet',include_top=False) #imports the inception model and discards the last 1000 neuron layer.\n",
        "\n"
      ],
      "execution_count": 2,
      "outputs": [
        {
          "output_type": "stream",
          "text": [
            "/usr/local/lib/python3.6/dist-packages/keras_applications/mobilenet.py:207: UserWarning: `input_shape` is undefined or non-square, or `rows` is not in [128, 160, 192, 224]. Weights for input shape (224, 224) will be loaded as the default.\n",
            "  warnings.warn('`input_shape` is undefined or non-square, '\n"
          ],
          "name": "stderr"
        }
      ]
    },
    {
      "cell_type": "code",
      "metadata": {
        "id": "IZQo7rblmgqe",
        "colab_type": "code",
        "colab": {}
      },
      "source": [
        "x=base_model.output\n",
        "x=GlobalAveragePooling2D()(x)\n",
        "tf.keras.layers.Dropout(0.8)\n",
        "x=Dense(1024,activation='relu')(x) #we add dense layers so that the model can learn more complex functions and classify for better results.\n",
        "x=Dense(1024,activation='relu')(x) #dense layer 2\n",
        "x=Dense(512,activation='relu')(x) #dense layer 3\n",
        "preds=Dense(3,activation='softmax')(x) #final layer with softmax activation\\\n"
      ],
      "execution_count": 0,
      "outputs": []
    },
    {
      "cell_type": "code",
      "metadata": {
        "id": "lDk-E-THopfB",
        "colab_type": "code",
        "colab": {}
      },
      "source": [
        "model=Model(inputs=base_model.input,outputs=preds)"
      ],
      "execution_count": 0,
      "outputs": []
    },
    {
      "cell_type": "code",
      "metadata": {
        "id": "76jkPN7XowV0",
        "colab_type": "code",
        "colab": {}
      },
      "source": [
        "for layer in model.layers[:20]: #freezing top 20 layers\n",
        "    layer.trainable=False\n",
        "for layer in model.layers[20:]:  \n",
        "    layer.trainable=True"
      ],
      "execution_count": 0,
      "outputs": []
    },
    {
      "cell_type": "markdown",
      "metadata": {
        "id": "r_J2nkzU_0PB",
        "colab_type": "text"
      },
      "source": [
        "# Preprocessing data using keras ImageDataGenerator function"
      ]
    },
    {
      "cell_type": "code",
      "metadata": {
        "id": "ThSR91aMo3IZ",
        "colab_type": "code",
        "colab": {}
      },
      "source": [
        "train_datagen=ImageDataGenerator(preprocessing_function=preprocess_input) #included in our dependencies\n",
        "valid_datagen=ImageDataGenerator(preprocessing_function=preprocess_input)\n",
        "\n"
      ],
      "execution_count": 0,
      "outputs": []
    },
    {
      "cell_type": "code",
      "metadata": {
        "id": "S2JY6z3FpbEM",
        "colab_type": "code",
        "outputId": "5dde1c38-fb45-4b22-92f0-e62e96ea211e",
        "colab": {
          "base_uri": "https://localhost:8080/",
          "height": 51
        }
      },
      "source": [
        "train_generator=train_datagen.flow_from_directory('/content/drive/My Drive/data/train/', # this is where you specify the path to the main data folder\n",
        "                                                 target_size=(224,224),\n",
        "                                                 color_mode='rgb',\n",
        "                                                 shuffle=False ,\n",
        "                                                 class_mode='categorical',\n",
        "                                                 )\n",
        "val_dataset=valid_datagen.flow_from_directory('/content/drive/My Drive/data/validation/', # this is where you specify the path to the validation folder\n",
        "                                                 target_size=(224,224),\n",
        "                                                 color_mode='rgb',\n",
        "                                                 shuffle=False, \n",
        "                                              class_mode='categorical'\n",
        "                                                 )\n"
      ],
      "execution_count": 7,
      "outputs": [
        {
          "output_type": "stream",
          "text": [
            "Found 160 images belonging to 3 classes.\n",
            "Found 160 images belonging to 3 classes.\n"
          ],
          "name": "stdout"
        }
      ]
    },
    {
      "cell_type": "markdown",
      "metadata": {
        "id": "vrIvSIDEBOl9",
        "colab_type": "text"
      },
      "source": [
        "# Compiling model \n"
      ]
    },
    {
      "cell_type": "code",
      "metadata": {
        "id": "acdIxWowpgpp",
        "colab_type": "code",
        "colab": {}
      },
      "source": [
        "\n",
        "model.compile(optimizer=\"Adam\",loss='categorical_crossentropy',metrics=[tf.keras.metrics.CategoricalAccuracy()])\n",
        "# Adam optimizer\n",
        "# loss function will be categorical cross entropy\n",
        "# evaluation metric will be Categorical accuracy\n",
        "\n"
      ],
      "execution_count": 0,
      "outputs": []
    },
    {
      "cell_type": "markdown",
      "metadata": {
        "id": "EmIAf-eQBkW4",
        "colab_type": "text"
      },
      "source": [
        "# Training model"
      ]
    },
    {
      "cell_type": "code",
      "metadata": {
        "id": "xZDyR1atpqYV",
        "colab_type": "code",
        "outputId": "69bba61d-f472-4dc9-e830-9a445dc0f2a2",
        "colab": {
          "base_uri": "https://localhost:8080/",
          "height": 1000
        }
      },
      "source": [
        "step_size_train=train_generator.n//train_generator.batch_size\n",
        "history=model.fit_generator(generator=train_generator,\n",
        "                   steps_per_epoch=step_size_train,\n",
        "                   epochs=40,\n",
        "                  validation_data=val_dataset) \n",
        "                    "
      ],
      "execution_count": 9,
      "outputs": [
        {
          "output_type": "stream",
          "text": [
            "Epoch 1/40\n",
            "5/5 [==============================] - 8s 2s/step - loss: 6.1499 - categorical_accuracy: 0.2486 - val_loss: 2.6643 - val_categorical_accuracy: 0.1574\n",
            "Epoch 2/40\n",
            "5/5 [==============================] - 2s 336ms/step - loss: 1.5580 - categorical_accuracy: 0.1832 - val_loss: 0.9824 - val_categorical_accuracy: 0.1615\n",
            "Epoch 3/40\n",
            "5/5 [==============================] - 2s 338ms/step - loss: 1.1662 - categorical_accuracy: 0.1638 - val_loss: 1.3016 - val_categorical_accuracy: 0.1779\n",
            "Epoch 4/40\n",
            "5/5 [==============================] - 2s 345ms/step - loss: 1.1259 - categorical_accuracy: 0.1851 - val_loss: 1.2788 - val_categorical_accuracy: 0.1820\n",
            "Epoch 5/40\n",
            "5/5 [==============================] - 2s 350ms/step - loss: 1.1174 - categorical_accuracy: 0.1779 - val_loss: 0.1786 - val_categorical_accuracy: 0.2285\n",
            "Epoch 6/40\n",
            "5/5 [==============================] - 2s 354ms/step - loss: 1.0831 - categorical_accuracy: 0.2639 - val_loss: 0.1033 - val_categorical_accuracy: 0.3008\n",
            "Epoch 7/40\n",
            "5/5 [==============================] - 2s 351ms/step - loss: 1.0725 - categorical_accuracy: 0.3250 - val_loss: 0.0833 - val_categorical_accuracy: 0.3522\n",
            "Epoch 8/40\n",
            "5/5 [==============================] - 2s 344ms/step - loss: 1.0652 - categorical_accuracy: 0.3694 - val_loss: 0.0523 - val_categorical_accuracy: 0.3904\n",
            "Epoch 9/40\n",
            "5/5 [==============================] - 2s 353ms/step - loss: 1.0472 - categorical_accuracy: 0.4059 - val_loss: 0.0109 - val_categorical_accuracy: 0.4203\n",
            "Epoch 10/40\n",
            "5/5 [==============================] - 2s 342ms/step - loss: 1.0333 - categorical_accuracy: 0.4345 - val_loss: 0.0015 - val_categorical_accuracy: 0.4441\n",
            "Epoch 11/40\n",
            "5/5 [==============================] - 2s 343ms/step - loss: 0.9660 - categorical_accuracy: 0.4560 - val_loss: 2.1298e-04 - val_categorical_accuracy: 0.4637\n",
            "Epoch 12/40\n",
            "5/5 [==============================] - 2s 352ms/step - loss: 0.8888 - categorical_accuracy: 0.4739 - val_loss: 5.0562e-05 - val_categorical_accuracy: 0.4843\n",
            "Epoch 13/40\n",
            "5/5 [==============================] - 2s 348ms/step - loss: 0.9643 - categorical_accuracy: 0.4923 - val_loss: 6.2957e-07 - val_categorical_accuracy: 0.4985\n",
            "Epoch 14/40\n",
            "5/5 [==============================] - 2s 339ms/step - loss: 0.8148 - categorical_accuracy: 0.5066 - val_loss: 4.1611e-06 - val_categorical_accuracy: 0.5178\n",
            "Epoch 15/40\n",
            "5/5 [==============================] - 2s 349ms/step - loss: 0.8870 - categorical_accuracy: 0.5245 - val_loss: 3.7253e-09 - val_categorical_accuracy: 0.5293\n",
            "Epoch 16/40\n",
            "5/5 [==============================] - 2s 356ms/step - loss: 0.6955 - categorical_accuracy: 0.5363 - val_loss: 9.6857e-08 - val_categorical_accuracy: 0.5451\n",
            "Epoch 17/40\n",
            "5/5 [==============================] - 2s 345ms/step - loss: 1.1000 - categorical_accuracy: 0.5509 - val_loss: 5.1035e-06 - val_categorical_accuracy: 0.5595\n",
            "Epoch 18/40\n",
            "5/5 [==============================] - 2s 366ms/step - loss: 0.8037 - categorical_accuracy: 0.5663 - val_loss: 3.0739e-05 - val_categorical_accuracy: 0.5709\n",
            "Epoch 19/40\n",
            "5/5 [==============================] - 2s 359ms/step - loss: 0.9441 - categorical_accuracy: 0.5768 - val_loss: 2.2181e-04 - val_categorical_accuracy: 0.5781\n",
            "Epoch 20/40\n",
            "5/5 [==============================] - 2s 347ms/step - loss: 0.8617 - categorical_accuracy: 0.5819 - val_loss: 2.9486e-04 - val_categorical_accuracy: 0.5835\n",
            "Epoch 21/40\n",
            "5/5 [==============================] - 2s 349ms/step - loss: 0.9374 - categorical_accuracy: 0.5867 - val_loss: 3.6379e-04 - val_categorical_accuracy: 0.5900\n",
            "Epoch 22/40\n",
            "5/5 [==============================] - 2s 327ms/step - loss: 0.6885 - categorical_accuracy: 0.5937 - val_loss: 4.0079e-04 - val_categorical_accuracy: 0.5992\n",
            "Epoch 23/40\n",
            "5/5 [==============================] - 2s 350ms/step - loss: 0.5275 - categorical_accuracy: 0.6054 - val_loss: 2.3509e-04 - val_categorical_accuracy: 0.6096\n",
            "Epoch 24/40\n",
            "5/5 [==============================] - 2s 341ms/step - loss: 0.4382 - categorical_accuracy: 0.6161 - val_loss: 1.3794e-04 - val_categorical_accuracy: 0.6196\n",
            "Epoch 25/40\n",
            "5/5 [==============================] - 2s 346ms/step - loss: 0.4248 - categorical_accuracy: 0.6252 - val_loss: 2.1156e-04 - val_categorical_accuracy: 0.6284\n",
            "Epoch 26/40\n",
            "5/5 [==============================] - 2s 350ms/step - loss: 0.3725 - categorical_accuracy: 0.6322 - val_loss: 0.0021 - val_categorical_accuracy: 0.6363\n",
            "Epoch 27/40\n",
            "5/5 [==============================] - 2s 351ms/step - loss: 0.9452 - categorical_accuracy: 0.6378 - val_loss: 0.0890 - val_categorical_accuracy: 0.6409\n",
            "Epoch 28/40\n",
            "5/5 [==============================] - 2s 332ms/step - loss: 0.5125 - categorical_accuracy: 0.6448 - val_loss: 0.0049 - val_categorical_accuracy: 0.6474\n",
            "Epoch 29/40\n",
            "5/5 [==============================] - 2s 334ms/step - loss: 0.5684 - categorical_accuracy: 0.6519 - val_loss: 0.0056 - val_categorical_accuracy: 0.6540\n",
            "Epoch 30/40\n",
            "5/5 [==============================] - 2s 360ms/step - loss: 0.4224 - categorical_accuracy: 0.6581 - val_loss: 0.0399 - val_categorical_accuracy: 0.6610\n",
            "Epoch 31/40\n",
            "5/5 [==============================] - 2s 345ms/step - loss: 0.5056 - categorical_accuracy: 0.6648 - val_loss: 0.0727 - val_categorical_accuracy: 0.6653\n",
            "Epoch 32/40\n",
            "5/5 [==============================] - 2s 354ms/step - loss: 0.3077 - categorical_accuracy: 0.6698 - val_loss: 0.0865 - val_categorical_accuracy: 0.6717\n",
            "Epoch 33/40\n",
            "5/5 [==============================] - 2s 350ms/step - loss: 0.2416 - categorical_accuracy: 0.6762 - val_loss: 0.0884 - val_categorical_accuracy: 0.6783\n",
            "Epoch 34/40\n",
            "5/5 [==============================] - 2s 336ms/step - loss: 0.2523 - categorical_accuracy: 0.6818 - val_loss: 0.0819 - val_categorical_accuracy: 0.6842\n",
            "Epoch 35/40\n",
            "5/5 [==============================] - 2s 348ms/step - loss: 0.1380 - categorical_accuracy: 0.6879 - val_loss: 0.1458 - val_categorical_accuracy: 0.6907\n",
            "Epoch 36/40\n",
            "5/5 [==============================] - 2s 355ms/step - loss: 0.1621 - categorical_accuracy: 0.6945 - val_loss: 0.1898 - val_categorical_accuracy: 0.6968\n",
            "Epoch 37/40\n",
            "5/5 [==============================] - 2s 336ms/step - loss: 0.2744 - categorical_accuracy: 0.7002 - val_loss: 0.2326 - val_categorical_accuracy: 0.7024\n",
            "Epoch 38/40\n",
            "5/5 [==============================] - 2s 361ms/step - loss: 0.1208 - categorical_accuracy: 0.7059 - val_loss: 0.3082 - val_categorical_accuracy: 0.7078\n",
            "Epoch 39/40\n",
            "5/5 [==============================] - 2s 365ms/step - loss: 0.1473 - categorical_accuracy: 0.7112 - val_loss: 0.3961 - val_categorical_accuracy: 0.7127\n",
            "Epoch 40/40\n",
            "5/5 [==============================] - 2s 344ms/step - loss: 0.0584 - categorical_accuracy: 0.7157 - val_loss: 0.4842 - val_categorical_accuracy: 0.7171\n"
          ],
          "name": "stdout"
        }
      ]
    },
    {
      "cell_type": "code",
      "metadata": {
        "id": "xNSAup1PnYNU",
        "colab_type": "code",
        "outputId": "c7e9c69c-65cc-487c-e4a6-0437a7f1d969",
        "colab": {
          "base_uri": "https://localhost:8080/",
          "height": 34
        }
      },
      "source": [
        "results = model.evaluate_generator(val_dataset)\n",
        "print('test loss, test acc:', results)"
      ],
      "execution_count": 10,
      "outputs": [
        {
          "output_type": "stream",
          "text": [
            "test loss, test acc: [0.48421263694763184, 0.7179571390151978]\n"
          ],
          "name": "stdout"
        }
      ]
    },
    {
      "cell_type": "code",
      "metadata": {
        "id": "wFThxiBUkLVM",
        "colab_type": "code",
        "outputId": "d3e15d3d-5928-4c6f-874d-0c048e4beb86",
        "colab": {
          "base_uri": "https://localhost:8080/",
          "height": 573
        }
      },
      "source": [
        "# summarize history for accuracy \n",
        "plt.plot(history.history['categorical_accuracy'])\n",
        "plt.plot(history.history['val_categorical_accuracy'])\n",
        "plt.title('model accuracy')\n",
        "plt.ylabel('accuracy')\n",
        "plt.xlabel('epoch')\n",
        "plt.legend(['train', 'test'], loc='upper left')\n",
        "plt.show()\n",
        "# summarize history for loss\n",
        "plt.plot(history.history['loss'])\n",
        "plt.plot(history.history['val_loss'])\n",
        "plt.title('model loss')\n",
        "plt.ylabel('loss')\n",
        "plt.xlabel('epoch')\n",
        "plt.legend(['train', 'test'], loc='upper left')\n",
        "plt.show()"
      ],
      "execution_count": 11,
      "outputs": [
        {
          "output_type": "display_data",
          "data": {
            "image/png": "[encoded data removed]",
            "text/plain": [
              "<Figure size 432x288 with 1 Axes>"
            ]
          },
          "metadata": {
            "tags": [],
            "needs_background": "light"
          }
        },
        {
          "output_type": "display_data",
          "data": {
            "image/png": "[encoded data removed]",
            "text/plain": [
              "<Figure size 432x288 with 1 Axes>"
            ]
          },
          "metadata": {
            "tags": [],
            "needs_background": "light"
          }
        }
      ]
    },
    {
      "cell_type": "markdown",
      "metadata": {
        "id": "CkvzdXIpBys_",
        "colab_type": "text"
      },
      "source": [
        "# **Pre-processing data which is to be predicted**"
      ]
    },
    {
      "cell_type": "code",
      "metadata": {
        "id": "NwXCZJHiwc58",
        "colab_type": "code",
        "colab": {}
      },
      "source": [
        "\n",
        "data = np.ndarray(shape=(1, 224, 224, 3), dtype=np.float32)\n",
        "\n",
        "# Replace this with the path to your image\n",
        "image = Image.open('/content/drive/My Drive/data/validation/malignant/mdb023.jpg')\n",
        "\n",
        "#resize the image to a 224x224:\n",
        "#resizing the image to be at least 224x224 and then cropping from the center\n",
        "size = (224, 224)\n",
        "image = ImageOps.fit(image, size, Image.ANTIALIAS)\n"
      ],
      "execution_count": 0,
      "outputs": []
    },
    {
      "cell_type": "code",
      "metadata": {
        "id": "TaDV1N3Jw9Bx",
        "colab_type": "code",
        "colab": {}
      },
      "source": [
        "image=image.convert('RGB')"
      ],
      "execution_count": 0,
      "outputs": []
    },
    {
      "cell_type": "code",
      "metadata": {
        "id": "zIwj4RQvw-CL",
        "colab_type": "code",
        "outputId": "73366df4-52ea-4a78-8957-8ec0b226ce0b",
        "colab": {
          "base_uri": "https://localhost:8080/",
          "height": 34
        }
      },
      "source": [
        "image.size"
      ],
      "execution_count": 14,
      "outputs": [
        {
          "output_type": "execute_result",
          "data": {
            "text/plain": [
              "(224, 224)"
            ]
          },
          "metadata": {
            "tags": []
          },
          "execution_count": 14
        }
      ]
    },
    {
      "cell_type": "code",
      "metadata": {
        "id": "RnU73rJkxGTn",
        "colab_type": "code",
        "colab": {}
      },
      "source": [
        "image_array = np.asarray(image)\n",
        "normalized_image_array = (image_array.astype(np.float32) / 127.0) - 1\n"
      ],
      "execution_count": 0,
      "outputs": []
    },
    {
      "cell_type": "code",
      "metadata": {
        "id": "oemkZIMAxHZD",
        "colab_type": "code",
        "colab": {}
      },
      "source": [
        "data[0] = normalized_image_array\n"
      ],
      "execution_count": 0,
      "outputs": []
    },
    {
      "cell_type": "markdown",
      "metadata": {
        "id": "qVtgz9nWCG9S",
        "colab_type": "text"
      },
      "source": [
        "# Prediction of the model\n",
        "\n",
        "1.  **negative** \n",
        "2.  **positive**\n",
        "\n"
      ]
    },
    {
      "cell_type": "code",
      "metadata": {
        "id": "GvHtpiXmxMm7",
        "colab_type": "code",
        "outputId": "6d41f8f9-24cd-419c-b516-7fbc8fc47e98",
        "colab": {
          "base_uri": "https://localhost:8080/",
          "height": 34
        }
      },
      "source": [
        "# run the inference\n",
        "prediction = model.predict(data)\n",
        "\n",
        "print(prediction)"
      ],
      "execution_count": 17,
      "outputs": [
        {
          "output_type": "stream",
          "text": [
            "[[2.9936669e-02 2.0590524e-07 9.7006309e-01]]\n"
          ],
          "name": "stdout"
        }
      ]
    }
  ]
}